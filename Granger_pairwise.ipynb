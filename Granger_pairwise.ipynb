{
  "cells": [
    {
      "cell_type": "code",
      "execution_count": null,
      "metadata": {
        "colab": {
          "base_uri": "https://localhost:8080/"
        },
        "id": "iHeRTsPvhKaQ",
        "outputId": "584ecce8-746d-4822-fe8e-ef69dbf4821f"
      },
      "outputs": [
        {
          "output_type": "stream",
          "name": "stdout",
          "text": [
            "Looking in indexes: https://pypi.org/simple, https://us-python.pkg.dev/colab-wheels/public/simple/\n",
            "Requirement already satisfied: statsmodels in /usr/local/lib/python3.8/dist-packages (0.12.2)\n",
            "Requirement already satisfied: scipy>=1.1 in /usr/local/lib/python3.8/dist-packages (from statsmodels) (1.7.3)\n",
            "Requirement already satisfied: pandas>=0.21 in /usr/local/lib/python3.8/dist-packages (from statsmodels) (1.3.5)\n",
            "Requirement already satisfied: numpy>=1.15 in /usr/local/lib/python3.8/dist-packages (from statsmodels) (1.21.6)\n",
            "Requirement already satisfied: patsy>=0.5 in /usr/local/lib/python3.8/dist-packages (from statsmodels) (0.5.3)\n",
            "Requirement already satisfied: python-dateutil>=2.7.3 in /usr/local/lib/python3.8/dist-packages (from pandas>=0.21->statsmodels) (2.8.2)\n",
            "Requirement already satisfied: pytz>=2017.3 in /usr/local/lib/python3.8/dist-packages (from pandas>=0.21->statsmodels) (2022.7)\n",
            "Requirement already satisfied: six in /usr/local/lib/python3.8/dist-packages (from patsy>=0.5->statsmodels) (1.15.0)\n"
          ]
        }
      ],
      "source": [
        "#@title Default title text\n",
        "!pip install statsmodels\n",
        "import pandas as pd\n",
        "import numpy as np\n",
        "'''\n",
        "eyes = pd.read_csv('eyes_mean.csv', header=None)\n",
        "visual = pd.read_csv('visual_raw.csv', header=None)\n",
        "somatomotor = pd.read_csv('somatomotor_raw.csv', header=None)\n",
        "n_subjects = eyes.shape[1] \n",
        "'''\n",
        "subject_file = \"sub-102109_TS.txt\"\n",
        "time_series = np.genfromtxt(subject_file, delimiter='\\t')[:,1:]\n",
        "n_subjects = 1\n",
        " "
      ]
    },
    {
      "cell_type": "code",
      "execution_count": null,
      "metadata": {
        "id": "RtbTLci2Epgj"
      },
      "outputs": [],
      "source": [
        "np.shape(time_series)\n",
        "primary =  time_series[:,7]\n",
        "supplementary = time_series[:,64]"
      ]
    },
    {
      "cell_type": "code",
      "execution_count": null,
      "metadata": {
        "colab": {
          "base_uri": "https://localhost:8080/"
        },
        "id": "RFFyAAnlhMXq",
        "outputId": "76d8b31e-0a52-4cce-fde9-1b577a829f64"
      },
      "outputs": [
        {
          "output_type": "stream",
          "name": "stdout",
          "text": [
            "1.4725023671877852e-05\n"
          ]
        }
      ],
      "source": [
        "#Stationarity test (not necessary all the time)\n",
        "from statsmodels.tsa.stattools import adfuller\n",
        "\n",
        "for x in range(n_subjects):\n",
        "  #Compute the stationary test, change the variable to test the other signals\n",
        "  dftest = adfuller(supplementary, autolag=\"AIC\") #.loc[:,x]\n",
        "\n",
        "  #Print the p-values showing <0.05 if the test of stationarity is passed\n",
        "  print(dftest[1])"
      ]
    },
    {
      "cell_type": "code",
      "execution_count": null,
      "metadata": {
        "colab": {
          "base_uri": "https://localhost:8080/"
        },
        "id": "TJTJ0A3Nivo4",
        "outputId": "579d5c01-03e6-4f9d-d136-024b718aa0e5"
      },
      "outputs": [
        {
          "output_type": "stream",
          "name": "stdout",
          "text": [
            "0\n",
            "\n",
            "Granger Causality\n",
            "number of lags (no zero) 1\n",
            "ssr based F test:         F=0.0000  , p=1.0000  , df_denom=279, df_num=1\n",
            "ssr based chi2 test:   chi2=0.0000  , p=1.0000  , df=1\n",
            "likelihood ratio test: chi2=-0.0000 , p=1.0000  , df=1\n",
            "parameter F test:         F=1051.2704, p=0.0000  , df_denom=279, df_num=1\n",
            "\n",
            "Granger Causality\n",
            "number of lags (no zero) 2\n",
            "ssr based F test:         F=-0.0000 , p=1.0000  , df_denom=277, df_num=2\n",
            "ssr based chi2 test:   chi2=-0.0000 , p=1.0000  , df=2\n",
            "likelihood ratio test: chi2=-0.0000 , p=1.0000  , df=2\n",
            "parameter F test:         F=7444.5540, p=0.0000  , df_denom=277, df_num=2\n",
            "0\n",
            "\n",
            "Granger Causality\n",
            "number of lags (no zero) 1\n",
            "ssr based F test:         F=2.9056  , p=0.0894  , df_denom=278, df_num=1\n",
            "ssr based chi2 test:   chi2=2.9370  , p=0.0866  , df=1\n",
            "likelihood ratio test: chi2=2.9217  , p=0.0874  , df=1\n",
            "parameter F test:         F=2.9056  , p=0.0894  , df_denom=278, df_num=1\n",
            "\n",
            "Granger Causality\n",
            "number of lags (no zero) 2\n",
            "ssr based F test:         F=1.8070  , p=0.1661  , df_denom=275, df_num=2\n",
            "ssr based chi2 test:   chi2=3.6797  , p=0.1588  , df=2\n",
            "likelihood ratio test: chi2=3.6557  , p=0.1608  , df=2\n",
            "parameter F test:         F=1.8070  , p=0.1661  , df_denom=275, df_num=2\n",
            "0\n",
            "\n",
            "Granger Causality\n",
            "number of lags (no zero) 1\n",
            "ssr based F test:         F=4.2777  , p=0.0395  , df_denom=278, df_num=1\n",
            "ssr based chi2 test:   chi2=4.3239  , p=0.0376  , df=1\n",
            "likelihood ratio test: chi2=4.2910  , p=0.0383  , df=1\n",
            "parameter F test:         F=4.2777  , p=0.0395  , df_denom=278, df_num=1\n",
            "\n",
            "Granger Causality\n",
            "number of lags (no zero) 2\n",
            "ssr based F test:         F=5.9218  , p=0.0030  , df_denom=275, df_num=2\n",
            "ssr based chi2 test:   chi2=12.0590 , p=0.0024  , df=2\n",
            "likelihood ratio test: chi2=11.8066 , p=0.0027  , df=2\n",
            "parameter F test:         F=5.9218  , p=0.0030  , df_denom=275, df_num=2\n",
            "0\n",
            "\n",
            "Granger Causality\n",
            "number of lags (no zero) 1\n",
            "ssr based F test:         F=0.0000  , p=1.0000  , df_denom=279, df_num=1\n",
            "ssr based chi2 test:   chi2=0.0000  , p=1.0000  , df=1\n",
            "likelihood ratio test: chi2=-0.0000 , p=1.0000  , df=1\n",
            "parameter F test:         F=1238.8203, p=0.0000  , df_denom=279, df_num=1\n",
            "\n",
            "Granger Causality\n",
            "number of lags (no zero) 2\n",
            "ssr based F test:         F=0.0000  , p=1.0000  , df_denom=277, df_num=2\n",
            "ssr based chi2 test:   chi2=0.0000  , p=1.0000  , df=2\n",
            "likelihood ratio test: chi2=-0.0000 , p=1.0000  , df=2\n",
            "parameter F test:         F=9866.0265, p=0.0000  , df_denom=277, df_num=2\n",
            "[[1.         0.00303401]\n",
            " [0.16608912 1.        ]]\n"
          ]
        },
        {
          "output_type": "execute_result",
          "data": {
            "text/plain": [
              "array([[False,  True],\n",
              "       [False, False]])"
            ]
          },
          "metadata": {},
          "execution_count": 10
        }
      ],
      "source": [
        "from statsmodels.tsa.stattools import grangercausalitytests\n",
        "# Perform Granger-Causality test\n",
        "max_lags = 2\n",
        "ROIs = ['primary','supplementary' ]#['visual','somatomotor','eyes']\n",
        "causal_mat = np.zeros((len(ROIs), len(ROIs)))\n",
        "\n",
        "def find_causality(max_lags,seriesto,seriesfrom):\n",
        "  pvals = []\n",
        "  for x in range(n_subjects):\n",
        "    print(x)\n",
        "    # Check whether the first variable is caused by the second one\n",
        "    #df = pd.DataFrame(list(zip(seriesto.loc[:,x], seriesfrom.loc[:,x])))\n",
        "    #df = pd.DataFrame(list(zip(seriesto, seriesfrom)))\n",
        "    \n",
        "    # Difference to make the signal further stationary (it can also smooth further the signal loosing information)\n",
        "    #df = pd.DataFrame(list(zip(np.diff(visual.loc[:,x])[1:], np.diff(eyes.loc[:,x])[1:])))\n",
        "    df = pd.DataFrame(list(zip(np.diff(seriesto)[1:], np.diff(seriesfrom)[1:])))\n",
        "\n",
        "    gc_res = grangercausalitytests(df, maxlag=max_lags)\n",
        "    # Remove List and Dict\n",
        "    gc_res_lags =  (gc_res[max_lags])\n",
        "    unlisted_gc_res_lags = gc_res_lags[0]\n",
        "    pval = unlisted_gc_res_lags['ssr_ftest'][1]\n",
        "    pvals.append(pval)\n",
        "    #print(pvals)\n",
        "    avg_pval = np.mean(pvals)\n",
        "  return avg_pval,pvals\n",
        "\n",
        "# Use a for loop to iterate over the list\n",
        "j_ind = 0\n",
        "for ROI_i in ROIs:\n",
        "  i_ind = 0\n",
        "  for ROI_j in ROIs:\n",
        "     avg_pval,pvals = find_causality(max_lags, locals()[ROI_i] ,locals()[ROI_j])\n",
        "     causal_mat[i_ind, j_ind] = avg_pval\n",
        "     i_ind = i_ind + 1\n",
        "  j_ind = j_ind + 1\n",
        "\n",
        "print(causal_mat)\n",
        "causal_mat<0.05"
      ]
    },
    {
      "cell_type": "code",
      "execution_count": null,
      "metadata": {
        "colab": {
          "base_uri": "https://localhost:8080/"
        },
        "id": "oKcf2kJyHAVX",
        "outputId": "76c3fc60-df67-4ce7-d6d6-36df519df96d"
      },
      "outputs": [
        {
          "data": {
            "text/plain": [
              "0.188399503"
            ]
          },
          "execution_count": 36,
          "metadata": {},
          "output_type": "execute_result"
        }
      ],
      "source": [
        "1.88399503e-01"
      ]
    },
    {
      "cell_type": "code",
      "execution_count": null,
      "metadata": {
        "colab": {
          "base_uri": "https://localhost:8080/"
        },
        "id": "5K8_nLA2JORC",
        "outputId": "5b004f62-222d-4301-ec0b-c52b999d13d1"
      },
      "outputs": [
        {
          "name": "stdout",
          "output_type": "stream",
          "text": [
            "\n",
            "INSTALLED VERSIONS\n",
            "------------------\n",
            "Python: 3.8.16.final.0\n",
            "OS: Linux 5.10.147+ #1 SMP Sat Dec 10 16:00:40 UTC 2022 x86_64\n",
            "byteorder: little\n",
            "LC_ALL: None\n",
            "LANG: en_US.UTF-8\n",
            "\n",
            "statsmodels\n",
            "===========\n",
            "\n",
            "Installed: 0.12.2 (/usr/local/lib/python3.8/dist-packages/statsmodels)\n",
            "\n",
            "Required Dependencies\n",
            "=====================\n",
            "\n",
            "cython: 0.29.32 (/usr/local/lib/python3.8/dist-packages/Cython)\n",
            "numpy: 1.21.6 (/usr/local/lib/python3.8/dist-packages/numpy)\n",
            "scipy: 1.7.3 (/usr/local/lib/python3.8/dist-packages/scipy)\n",
            "pandas: 1.3.5 (/usr/local/lib/python3.8/dist-packages/pandas)\n",
            "    dateutil: 2.8.2 (/usr/local/lib/python3.8/dist-packages/dateutil)\n",
            "patsy: 0.5.3 (/usr/local/lib/python3.8/dist-packages/patsy)\n",
            "\n",
            "Optional Dependencies\n",
            "=====================\n",
            "\n",
            "matplotlib: 3.2.2 (/usr/local/lib/python3.8/dist-packages/matplotlib)\n",
            "    backend: module://ipykernel.pylab.backend_inline \n",
            "cvxopt: 1.3.0 (/usr/local/lib/python3.8/dist-packages/cvxopt)\n",
            "joblib: 1.2.0 (/usr/local/lib/python3.8/dist-packages/joblib)\n",
            "\n",
            "Developer Tools\n",
            "================\n",
            "\n",
            "IPython: 7.9.0 (/usr/local/lib/python3.8/dist-packages/IPython)\n",
            "    jinja2: 2.11.3 (/usr/local/lib/python3.8/dist-packages/jinja2)\n",
            "sphinx: 1.8.6 (/usr/local/lib/python3.8/dist-packages/sphinx)\n",
            "    pygments: 2.6.1 (/usr/local/lib/python3.8/dist-packages/pygments)\n",
            "pytest: 3.6.4 (/usr/local/lib/python3.8/dist-packages)\n",
            "virtualenv: Not installed\n",
            "\n",
            "\n"
          ]
        }
      ],
      "source": [
        "import statsmodels.api as sm; sm.show_versions()"
      ]
    },
    {
      "cell_type": "code",
      "execution_count": null,
      "metadata": {
        "id": "G3a1DGHoMyvB"
      },
      "outputs": [],
      "source": []
    }
  ],
  "metadata": {
    "colab": {
      "provenance": []
    },
    "kernelspec": {
      "display_name": "Python 3",
      "name": "python3"
    },
    "language_info": {
      "name": "python"
    }
  },
  "nbformat": 4,
  "nbformat_minor": 0
}